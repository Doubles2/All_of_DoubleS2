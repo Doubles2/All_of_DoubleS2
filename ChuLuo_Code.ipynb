{
  "nbformat": 4,
  "nbformat_minor": 0,
  "metadata": {
    "colab": {
      "name": "ChuLuo_Code.ipynb",
      "provenance": [],
      "collapsed_sections": [],
      "machine_shape": "hm",
      "include_colab_link": true
    },
    "kernelspec": {
      "name": "python3",
      "display_name": "Python 3"
    },
    "accelerator": "TPU"
  },
  "cells": [
    {
      "cell_type": "markdown",
      "metadata": {
        "id": "view-in-github",
        "colab_type": "text"
      },
      "source": [
        "<a href=\"https://colab.research.google.com/github/Doubles2/All_of_DoubleS2/blob/master/ChuLuo_Code.ipynb\" target=\"_parent\"><img src=\"https://colab.research.google.com/assets/colab-badge.svg\" alt=\"Open In Colab\"/></a>"
      ]
    },
    {
      "cell_type": "markdown",
      "metadata": {
        "id": "nraxPGtxqhTd",
        "colab_type": "text"
      },
      "source": [
        "본 저자의 코드에서 hpg는 우리 쪽과 다르기 때문에 제외된 데이터셋을 이용하여 모델 설계를 진행함\n",
        "\n",
        "참고 : https://github.com/kasuo46/Restaurant_Visitor_Forecasting"
      ]
    },
    {
      "cell_type": "markdown",
      "metadata": {
        "id": "KOxOod2Mr76x",
        "colab_type": "text"
      },
      "source": [
        "import library"
      ]
    },
    {
      "cell_type": "code",
      "metadata": {
        "id": "Ptnmiqxmr7hX",
        "colab_type": "code",
        "colab": {}
      },
      "source": [
        "import pandas as pd\n",
        "import numpy as np\n",
        "from sklearn.ensemble import GradientBoostingRegressor\n",
        "from sklearn.neighbors import KNeighborsRegressor"
      ],
      "execution_count": 0,
      "outputs": []
    },
    {
      "cell_type": "markdown",
      "metadata": {
        "id": "13ATMKDWq32O",
        "colab_type": "text"
      },
      "source": [
        "Data Load"
      ]
    },
    {
      "cell_type": "code",
      "metadata": {
        "id": "Pi9QASdmqevQ",
        "colab_type": "code",
        "outputId": "96d3d25b-fe47-45ee-f76c-16b4dcff12cf",
        "colab": {
          "base_uri": "https://localhost:8080/",
          "height": 127
        }
      },
      "source": [
        "#구글 드라이브에서 업로드\n",
        "from google.colab import drive\n",
        "drive.mount('/gdrive')"
      ],
      "execution_count": 0,
      "outputs": [
        {
          "output_type": "stream",
          "text": [
            "Go to this URL in a browser: https://accounts.google.com/o/oauth2/auth?client_id=947318989803-6bn6qk8qdgf4n4g3pfee6491hc0brc4i.apps.googleusercontent.com&redirect_uri=urn%3aietf%3awg%3aoauth%3a2.0%3aoob&response_type=code&scope=email%20https%3a%2f%2fwww.googleapis.com%2fauth%2fdocs.test%20https%3a%2f%2fwww.googleapis.com%2fauth%2fdrive%20https%3a%2f%2fwww.googleapis.com%2fauth%2fdrive.photos.readonly%20https%3a%2f%2fwww.googleapis.com%2fauth%2fpeopleapi.readonly\n",
            "\n",
            "Enter your authorization code:\n",
            "··········\n",
            "Mounted at /gdrive\n"
          ],
          "name": "stdout"
        }
      ]
    },
    {
      "cell_type": "code",
      "metadata": {
        "id": "GKaAKfQ-rV7Q",
        "colab_type": "code",
        "colab": {}
      },
      "source": [
        "number = '4'\n",
        "Train = pd.read_csv('/gdrive/My Drive/Colab Notebooks/dataset/2차/train_' + number + '.csv')\n",
        "#Y_Train = pd.read_csv('/gdrive/My Drive/Colab Notebooks/dataset/2차/train_label_' + number + '.csv')\n",
        "Test = pd.read_csv('/gdrive/My Drive/Colab Notebooks/dataset/2차/test_' + number + '.csv')\n",
        "#Y_Test = pd.read_csv('/gdrive/My Drive/Colab Notebooks/dataset/2차/test_label_' + number + '.csv')\n",
        "\n",
        "train_feature = ['visit_dow', 'visit_month', 'visit_year', 'holiday_flg', 'min_visitors', 'mean_visitors', 'max_visitors', 'count_visitors', 'median_visitors', 'weight']\n",
        "label_feature = ['visitors']\n",
        "\n",
        "X_Train = Train[train_feature]\n",
        "Y_Train = Train[label_feature]\n",
        "X_Test = Test[train_feature]\n",
        "Y_Test = Test[label_feature]\n",
        "del Train, Test"
      ],
      "execution_count": 0,
      "outputs": []
    },
    {
      "cell_type": "code",
      "metadata": {
        "id": "VHG8DHMOrov4",
        "colab_type": "code",
        "outputId": "42f035d4-6f36-406b-e2da-091966bf438b",
        "colab": {
          "base_uri": "https://localhost:8080/",
          "height": 89
        }
      },
      "source": [
        "print('X_Train : ', X_Train.shape)\n",
        "print('Y_Train : ', Y_Train.shape)\n",
        "print('X_Test : ', X_Test.shape)\n",
        "print('Y_Test : ', Y_Test.shape)"
      ],
      "execution_count": 0,
      "outputs": [
        {
          "output_type": "stream",
          "text": [
            "X_Train :  (380, 10)\n",
            "Y_Train :  (380, 1)\n",
            "X_Test :  (95, 10)\n",
            "Y_Test :  (95, 1)\n"
          ],
          "name": "stdout"
        }
      ]
    },
    {
      "cell_type": "code",
      "metadata": {
        "id": "Rsv6EO6G5cmh",
        "colab_type": "code",
        "colab": {}
      },
      "source": [
        "def min_max_norm(Molecular_Table, denominator_Table):\n",
        "  import math\n",
        "  import numpy as np\n",
        "\n",
        "  alp = math.pow(10, -8)\n",
        "  mmn_col = Molecular_Table.columns\n",
        "  for col in mmn_col:\n",
        "    Molecular_Table[col] = ( Molecular_Table[col] - denominator_Table[col].min() ) / ( denominator_Table[col].max() - denominator_Table[col].min() + alp)\n",
        "  return Molecular_Table\n",
        "\n",
        "def z_norm(Molecular_Table, denominator_Table):\n",
        "  import math\n",
        "  import numpy as np\n",
        "\n",
        "  alp = math.pow(10, -8)\n",
        "  z_col = Molecular_Table.columns\n",
        "  for col in z_col:\n",
        "    Molecular_Table[col] = ( Molecular_Table[col] - denominator_Table[col].mean() ) / (denominator_Table[col].std() + alp)\n",
        "  return Molecular_Table"
      ],
      "execution_count": 0,
      "outputs": []
    },
    {
      "cell_type": "code",
      "metadata": {
        "id": "fyoysyT27BG7",
        "colab_type": "code",
        "colab": {}
      },
      "source": [
        "X_Train['visit_year'] -= 2016\n",
        "X_Test['visit_year'] -= 2016\n",
        "X_Test  = min_max_norm(X_Test, X_Train)\n",
        "X_Train = min_max_norm(X_Train, X_Train)"
      ],
      "execution_count": 0,
      "outputs": []
    },
    {
      "cell_type": "code",
      "metadata": {
        "id": "TmQoi5qL7qc6",
        "colab_type": "code",
        "outputId": "dd6c7d60-3a2c-495a-94fe-93880af9dcfb",
        "colab": {
          "base_uri": "https://localhost:8080/",
          "height": 204
        }
      },
      "source": [
        "X_Train.head()"
      ],
      "execution_count": 0,
      "outputs": [
        {
          "output_type": "execute_result",
          "data": {
            "text/html": [
              "<div>\n",
              "<style scoped>\n",
              "    .dataframe tbody tr th:only-of-type {\n",
              "        vertical-align: middle;\n",
              "    }\n",
              "\n",
              "    .dataframe tbody tr th {\n",
              "        vertical-align: top;\n",
              "    }\n",
              "\n",
              "    .dataframe thead th {\n",
              "        text-align: right;\n",
              "    }\n",
              "</style>\n",
              "<table border=\"1\" class=\"dataframe\">\n",
              "  <thead>\n",
              "    <tr style=\"text-align: right;\">\n",
              "      <th></th>\n",
              "      <th>visit_dow</th>\n",
              "      <th>visit_month</th>\n",
              "      <th>visit_year</th>\n",
              "      <th>holiday_flg</th>\n",
              "      <th>min_visitors</th>\n",
              "      <th>mean_visitors</th>\n",
              "      <th>max_visitors</th>\n",
              "      <th>count_visitors</th>\n",
              "      <th>median_visitors</th>\n",
              "      <th>weight</th>\n",
              "    </tr>\n",
              "  </thead>\n",
              "  <tbody>\n",
              "    <tr>\n",
              "      <th>0</th>\n",
              "      <td>0.666667</td>\n",
              "      <td>0.0</td>\n",
              "      <td>0.0</td>\n",
              "      <td>1.0</td>\n",
              "      <td>0.285714</td>\n",
              "      <td>0.096089</td>\n",
              "      <td>0.000000</td>\n",
              "      <td>1.0</td>\n",
              "      <td>0.178571</td>\n",
              "      <td>0.000000e+00</td>\n",
              "    </tr>\n",
              "    <tr>\n",
              "      <th>1</th>\n",
              "      <td>0.833333</td>\n",
              "      <td>0.0</td>\n",
              "      <td>0.0</td>\n",
              "      <td>1.0</td>\n",
              "      <td>0.714286</td>\n",
              "      <td>1.000000</td>\n",
              "      <td>0.680851</td>\n",
              "      <td>1.0</td>\n",
              "      <td>1.000000</td>\n",
              "      <td>3.761558e-12</td>\n",
              "    </tr>\n",
              "    <tr>\n",
              "      <th>2</th>\n",
              "      <td>1.000000</td>\n",
              "      <td>0.0</td>\n",
              "      <td>0.0</td>\n",
              "      <td>1.0</td>\n",
              "      <td>1.000000</td>\n",
              "      <td>0.941366</td>\n",
              "      <td>0.744681</td>\n",
              "      <td>0.0</td>\n",
              "      <td>0.857143</td>\n",
              "      <td>2.936442e-11</td>\n",
              "    </tr>\n",
              "    <tr>\n",
              "      <th>3</th>\n",
              "      <td>0.000000</td>\n",
              "      <td>0.0</td>\n",
              "      <td>0.0</td>\n",
              "      <td>0.0</td>\n",
              "      <td>0.285714</td>\n",
              "      <td>0.000000</td>\n",
              "      <td>0.212766</td>\n",
              "      <td>1.0</td>\n",
              "      <td>0.000000</td>\n",
              "      <td>1.241314e-10</td>\n",
              "    </tr>\n",
              "    <tr>\n",
              "      <th>4</th>\n",
              "      <td>0.166667</td>\n",
              "      <td>0.0</td>\n",
              "      <td>0.0</td>\n",
              "      <td>0.0</td>\n",
              "      <td>0.571429</td>\n",
              "      <td>0.136313</td>\n",
              "      <td>1.000000</td>\n",
              "      <td>1.0</td>\n",
              "      <td>0.035714</td>\n",
              "      <td>3.790680e-10</td>\n",
              "    </tr>\n",
              "  </tbody>\n",
              "</table>\n",
              "</div>"
            ],
            "text/plain": [
              "   visit_dow  visit_month  ...  median_visitors        weight\n",
              "0   0.666667          0.0  ...         0.178571  0.000000e+00\n",
              "1   0.833333          0.0  ...         1.000000  3.761558e-12\n",
              "2   1.000000          0.0  ...         0.857143  2.936442e-11\n",
              "3   0.000000          0.0  ...         0.000000  1.241314e-10\n",
              "4   0.166667          0.0  ...         0.035714  3.790680e-10\n",
              "\n",
              "[5 rows x 10 columns]"
            ]
          },
          "metadata": {
            "tags": []
          },
          "execution_count": 56
        }
      ]
    },
    {
      "cell_type": "code",
      "metadata": {
        "id": "fP5haHXt7sbi",
        "colab_type": "code",
        "outputId": "60658bde-9e68-43ca-a150-4a5d243ac04f",
        "colab": {
          "base_uri": "https://localhost:8080/",
          "height": 204
        }
      },
      "source": [
        "X_Test.head()"
      ],
      "execution_count": 0,
      "outputs": [
        {
          "output_type": "execute_result",
          "data": {
            "text/html": [
              "<div>\n",
              "<style scoped>\n",
              "    .dataframe tbody tr th:only-of-type {\n",
              "        vertical-align: middle;\n",
              "    }\n",
              "\n",
              "    .dataframe tbody tr th {\n",
              "        vertical-align: top;\n",
              "    }\n",
              "\n",
              "    .dataframe thead th {\n",
              "        text-align: right;\n",
              "    }\n",
              "</style>\n",
              "<table border=\"1\" class=\"dataframe\">\n",
              "  <thead>\n",
              "    <tr style=\"text-align: right;\">\n",
              "      <th></th>\n",
              "      <th>visit_dow</th>\n",
              "      <th>visit_month</th>\n",
              "      <th>visit_year</th>\n",
              "      <th>holiday_flg</th>\n",
              "      <th>min_visitors</th>\n",
              "      <th>mean_visitors</th>\n",
              "      <th>max_visitors</th>\n",
              "      <th>count_visitors</th>\n",
              "      <th>median_visitors</th>\n",
              "      <th>weight</th>\n",
              "    </tr>\n",
              "  </thead>\n",
              "  <tbody>\n",
              "    <tr>\n",
              "      <th>0</th>\n",
              "      <td>0.333333</td>\n",
              "      <td>0.0</td>\n",
              "      <td>1.0</td>\n",
              "      <td>0.0</td>\n",
              "      <td>0.000000</td>\n",
              "      <td>0.131844</td>\n",
              "      <td>0.361702</td>\n",
              "      <td>1.0</td>\n",
              "      <td>0.071429</td>\n",
              "      <td>1.013123</td>\n",
              "    </tr>\n",
              "    <tr>\n",
              "      <th>1</th>\n",
              "      <td>0.500000</td>\n",
              "      <td>0.0</td>\n",
              "      <td>1.0</td>\n",
              "      <td>0.0</td>\n",
              "      <td>0.285714</td>\n",
              "      <td>0.170950</td>\n",
              "      <td>0.276596</td>\n",
              "      <td>1.0</td>\n",
              "      <td>0.142857</td>\n",
              "      <td>1.026384</td>\n",
              "    </tr>\n",
              "    <tr>\n",
              "      <th>2</th>\n",
              "      <td>0.666667</td>\n",
              "      <td>0.0</td>\n",
              "      <td>1.0</td>\n",
              "      <td>0.0</td>\n",
              "      <td>0.285714</td>\n",
              "      <td>0.096089</td>\n",
              "      <td>0.000000</td>\n",
              "      <td>1.0</td>\n",
              "      <td>0.178571</td>\n",
              "      <td>1.039783</td>\n",
              "    </tr>\n",
              "    <tr>\n",
              "      <th>3</th>\n",
              "      <td>0.833333</td>\n",
              "      <td>0.0</td>\n",
              "      <td>1.0</td>\n",
              "      <td>0.0</td>\n",
              "      <td>0.714286</td>\n",
              "      <td>1.000000</td>\n",
              "      <td>0.680851</td>\n",
              "      <td>1.0</td>\n",
              "      <td>1.000000</td>\n",
              "      <td>1.053321</td>\n",
              "    </tr>\n",
              "    <tr>\n",
              "      <th>4</th>\n",
              "      <td>1.000000</td>\n",
              "      <td>0.0</td>\n",
              "      <td>1.0</td>\n",
              "      <td>0.0</td>\n",
              "      <td>1.000000</td>\n",
              "      <td>0.941366</td>\n",
              "      <td>0.744681</td>\n",
              "      <td>0.0</td>\n",
              "      <td>0.857143</td>\n",
              "      <td>1.067001</td>\n",
              "    </tr>\n",
              "  </tbody>\n",
              "</table>\n",
              "</div>"
            ],
            "text/plain": [
              "   visit_dow  visit_month  ...  median_visitors    weight\n",
              "0   0.333333          0.0  ...         0.071429  1.013123\n",
              "1   0.500000          0.0  ...         0.142857  1.026384\n",
              "2   0.666667          0.0  ...         0.178571  1.039783\n",
              "3   0.833333          0.0  ...         1.000000  1.053321\n",
              "4   1.000000          0.0  ...         0.857143  1.067001\n",
              "\n",
              "[5 rows x 10 columns]"
            ]
          },
          "metadata": {
            "tags": []
          },
          "execution_count": 57
        }
      ]
    },
    {
      "cell_type": "markdown",
      "metadata": {
        "id": "k1isW17msbah",
        "colab_type": "text"
      },
      "source": [
        "필요 함수 정의"
      ]
    },
    {
      "cell_type": "code",
      "metadata": {
        "id": "ruVIzW06scsn",
        "colab_type": "code",
        "colab": {}
      },
      "source": [
        "def rmsle(y, pred):\n",
        "  from sklearn.metrics import mean_squared_log_error\n",
        "  return mean_squared_log_error(y, pred)**0.5"
      ],
      "execution_count": 0,
      "outputs": []
    },
    {
      "cell_type": "markdown",
      "metadata": {
        "id": "mHX4X7Vlq5WI",
        "colab_type": "text"
      },
      "source": [
        "GBR\n"
      ]
    },
    {
      "cell_type": "code",
      "metadata": {
        "id": "XaISOlTlqerw",
        "colab_type": "code",
        "outputId": "bf133eff-f6d2-4ff9-969d-bf5fd4081ec3",
        "colab": {
          "base_uri": "https://localhost:8080/",
          "height": 413
        }
      },
      "source": [
        "model_gbr = GradientBoostingRegressor(learning_rate=0.2, verbose=True)\n",
        "model_gbr.fit(X_Train, Y_Train)\n",
        "pred_train_gbr = np.clip(model_gbr.predict(X_Train), a_min=0.0, a_max=None)\n",
        "pred_val_gbr = np.clip(model_gbr.predict(X_Test), a_min=0.0, a_max=None)"
      ],
      "execution_count": 0,
      "outputs": [
        {
          "output_type": "stream",
          "text": [
            "      Iter       Train Loss   Remaining Time \n",
            "         1          81.5617            0.08s\n",
            "         2          70.2909            0.07s\n",
            "         3          62.8343            0.07s\n",
            "         4          57.7282            0.06s\n",
            "         5          53.3082            0.06s\n",
            "         6          50.1112            0.06s\n",
            "         7          47.6156            0.06s\n",
            "         8          45.0672            0.06s\n",
            "         9          43.7110            0.06s\n",
            "        10          41.7993            0.06s\n",
            "        20          30.7464            0.05s\n",
            "        30          26.1144            0.04s\n",
            "        40          22.4692            0.03s\n",
            "        50          19.5806            0.03s\n",
            "        60          17.7412            0.02s\n",
            "        70          15.1128            0.02s\n",
            "        80          13.4611            0.01s\n",
            "        90          11.9132            0.01s\n",
            "       100          10.3999            0.00s\n"
          ],
          "name": "stdout"
        },
        {
          "output_type": "stream",
          "text": [
            "/usr/local/lib/python3.6/dist-packages/sklearn/ensemble/_gb.py:1454: DataConversionWarning: A column-vector y was passed when a 1d array was expected. Please change the shape of y to (n_samples, ), for example using ravel().\n",
            "  y = column_or_1d(y, warn=True)\n"
          ],
          "name": "stderr"
        }
      ]
    },
    {
      "cell_type": "markdown",
      "metadata": {
        "id": "TEVSu-fuq8U4",
        "colab_type": "text"
      },
      "source": [
        "KNR"
      ]
    },
    {
      "cell_type": "code",
      "metadata": {
        "id": "1wcn0SQIqeoR",
        "colab_type": "code",
        "colab": {}
      },
      "source": [
        "model_knr = KNeighborsRegressor(n_neighbors=5, n_jobs=-1)\n",
        "model_knr.fit(X_Train, Y_Train)\n",
        "pred_train_knr = np.clip(model_knr.predict(X_Train), a_min=0.0, a_max=None)\n",
        "pred_val_knr = np.clip(model_knr.predict(X_Test), a_min=0.0, a_max=None)"
      ],
      "execution_count": 0,
      "outputs": []
    },
    {
      "cell_type": "markdown",
      "metadata": {
        "id": "RSFR42xGrADt",
        "colab_type": "text"
      },
      "source": [
        "average of multiple models"
      ]
    },
    {
      "cell_type": "code",
      "metadata": {
        "id": "QcsArpF4qelw",
        "colab_type": "code",
        "colab": {}
      },
      "source": [
        "#del model_gbr, model_knr, X_Train, X_Test\n",
        "pred_train_mix = (pred_train_gbr + np.ravel(pred_train_knr))/2\n",
        "pred_val_mix = (pred_val_gbr + np.ravel(pred_val_knr))/2"
      ],
      "execution_count": 0,
      "outputs": []
    },
    {
      "cell_type": "markdown",
      "metadata": {
        "id": "4Wamw26orCGg",
        "colab_type": "text"
      },
      "source": [
        "fit and predict"
      ]
    },
    {
      "cell_type": "code",
      "metadata": {
        "id": "4vFfoBWLqejF",
        "colab_type": "code",
        "outputId": "48e99dd8-678d-4e40-e75e-012a95670120",
        "colab": {
          "base_uri": "https://localhost:8080/",
          "height": 71
        }
      },
      "source": [
        "print('GradientBoostingRegressor RMSLE: Train/Validation', rmsle(Y_Train, pred_train_gbr), rmsle(Y_Test, pred_val_gbr))\n",
        "#del pred_train_gbr, pred_val_gbr\n",
        "print('KNeighborsRegressor RMSLE: Train/Validation', rmsle(Y_Train, pred_train_knr), rmsle(Y_Test, pred_val_knr))\n",
        "#del pred_train_knr, pred_val_knr\n",
        "print('MixedRegressor RMSLE: Train/Validation', rmsle(Y_Train, pred_train_mix), rmsle(Y_Test, pred_val_mix))"
      ],
      "execution_count": 0,
      "outputs": [
        {
          "output_type": "stream",
          "text": [
            "GradientBoostingRegressor RMSLE: Train/Validation 0.24939823725547347 0.45681711381164236\n",
            "KNeighborsRegressor RMSLE: Train/Validation 0.37035238005920523 0.4520408423045235\n",
            "MixedRegressor RMSLE: Train/Validation 0.30078850296564164 0.44562087373410325\n"
          ],
          "name": "stdout"
        }
      ]
    },
    {
      "cell_type": "code",
      "metadata": {
        "id": "59cntM1S4B3W",
        "colab_type": "code",
        "outputId": "463a01e8-cbfd-420c-e5fe-2e9ef5a72ce9",
        "colab": {
          "base_uri": "https://localhost:8080/",
          "height": 53
        }
      },
      "source": [
        "model_gbr.feature_importances_"
      ],
      "execution_count": 0,
      "outputs": [
        {
          "output_type": "execute_result",
          "data": {
            "text/plain": [
              "array([0.01833235, 0.0588238 , 0.00066436, 0.08515765, 0.18128269,\n",
              "       0.04421542, 0.04291562, 0.00821666, 0.0782245 , 0.48216694])"
            ]
          },
          "metadata": {
            "tags": []
          },
          "execution_count": 63
        }
      ]
    },
    {
      "cell_type": "code",
      "metadata": {
        "id": "Do16Z_Mp19i1",
        "colab_type": "code",
        "colab": {}
      },
      "source": [
        ""
      ],
      "execution_count": 0,
      "outputs": []
    }
  ]
}