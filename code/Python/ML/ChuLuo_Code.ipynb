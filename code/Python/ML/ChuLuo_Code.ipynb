{
  "nbformat": 4,
  "nbformat_minor": 0,
  "metadata": {
    "colab": {
      "name": "ChuLuo_Code.ipynb",
      "provenance": [],
      "collapsed_sections": [],
      "machine_shape": "hm",
      "include_colab_link": true
    },
    "kernelspec": {
      "name": "python3",
      "display_name": "Python 3"
    },
    "accelerator": "TPU"
  },
  "cells": [
    {
      "cell_type": "markdown",
      "metadata": {
        "id": "view-in-github",
        "colab_type": "text"
      },
      "source": [
        "<a href=\"https://colab.research.google.com/github/Doubles2/LDCC/blob/master/ChuLuo_Code.ipynb\" target=\"_parent\"><img src=\"https://colab.research.google.com/assets/colab-badge.svg\" alt=\"Open In Colab\"/></a>"
      ]
    },
    {
      "cell_type": "markdown",
      "metadata": {
        "id": "nraxPGtxqhTd",
        "colab_type": "text"
      },
      "source": [
        "본 저자의 코드에서 hpg는 우리 쪽과 다르기 때문에 제외된 데이터셋을 이용하여 모델 설계를 진행함\n",
        "\n",
        "참고 : https://github.com/kasuo46/Restaurant_Visitor_Forecasting"
      ]
    },
    {
      "cell_type": "markdown",
      "metadata": {
        "id": "KOxOod2Mr76x",
        "colab_type": "text"
      },
      "source": [
        "import library"
      ]
    },
    {
      "cell_type": "code",
      "metadata": {
        "id": "Ptnmiqxmr7hX",
        "colab_type": "code",
        "colab": {}
      },
      "source": [
        "import pandas as pd\n",
        "import numpy as np\n",
        "from sklearn.ensemble import GradientBoostingRegressor\n",
        "from sklearn.neighbors import KNeighborsRegressor"
      ],
      "execution_count": 0,
      "outputs": []
    },
    {
      "cell_type": "markdown",
      "metadata": {
        "id": "13ATMKDWq32O",
        "colab_type": "text"
      },
      "source": [
        "Data Load"
      ]
    },
    {
      "cell_type": "code",
      "metadata": {
        "id": "Pi9QASdmqevQ",
        "colab_type": "code",
        "outputId": "aca6041b-02e3-427a-cd30-9048f9451c89",
        "colab": {
          "base_uri": "https://localhost:8080/",
          "height": 35
        }
      },
      "source": [
        "#구글 드라이브에서 업로드\n",
        "from google.colab import drive\n",
        "drive.mount('/gdrive')"
      ],
      "execution_count": 14,
      "outputs": [
        {
          "output_type": "stream",
          "text": [
            "Drive already mounted at /gdrive; to attempt to forcibly remount, call drive.mount(\"/gdrive\", force_remount=True).\n"
          ],
          "name": "stdout"
        }
      ]
    },
    {
      "cell_type": "code",
      "metadata": {
        "id": "GKaAKfQ-rV7Q",
        "colab_type": "code",
        "colab": {}
      },
      "source": [
        "X_Train = pd.read_csv('/gdrive/My Drive/Colab Notebooks/dataset/train_data.csv')\n",
        "Y_Train = pd.read_csv('/gdrive/My Drive/Colab Notebooks//dataset/train_label.csv')\n",
        "X_Test = pd.read_csv('/gdrive/My Drive/Colab Notebooks//dataset/test_data.csv')\n",
        "Y_Test = pd.read_csv('/gdrive/My Drive/Colab Notebooks//dataset/test_label.csv')"
      ],
      "execution_count": 0,
      "outputs": []
    },
    {
      "cell_type": "code",
      "metadata": {
        "id": "VHG8DHMOrov4",
        "colab_type": "code",
        "outputId": "d6379780-d1b3-4fdd-8e10-b613c7f0583e",
        "colab": {
          "base_uri": "https://localhost:8080/",
          "height": 89
        }
      },
      "source": [
        "print('X_Train : ', X_Train.shape)\n",
        "print('Y_Train : ', Y_Train.shape)\n",
        "print('X_Test : ', X_Test.shape)\n",
        "print('Y_Test : ', Y_Test.shape)"
      ],
      "execution_count": 16,
      "outputs": [
        {
          "output_type": "stream",
          "text": [
            "X_Train :  (201686, 22)\n",
            "Y_Train :  (201686, 1)\n",
            "X_Test :  (50422, 22)\n",
            "Y_Test :  (50422, 1)\n"
          ],
          "name": "stdout"
        }
      ]
    },
    {
      "cell_type": "markdown",
      "metadata": {
        "id": "k1isW17msbah",
        "colab_type": "text"
      },
      "source": [
        "필요 함수 정의"
      ]
    },
    {
      "cell_type": "code",
      "metadata": {
        "id": "ruVIzW06scsn",
        "colab_type": "code",
        "colab": {}
      },
      "source": [
        "def rmsle(y, pred):\n",
        "  from sklearn.metrics import mean_squared_log_error\n",
        "  return mean_squared_log_error(y, pred)**0.5"
      ],
      "execution_count": 0,
      "outputs": []
    },
    {
      "cell_type": "markdown",
      "metadata": {
        "id": "mHX4X7Vlq5WI",
        "colab_type": "text"
      },
      "source": [
        "GBR\n"
      ]
    },
    {
      "cell_type": "code",
      "metadata": {
        "id": "XaISOlTlqerw",
        "colab_type": "code",
        "outputId": "e31433d3-6984-4eca-d8ea-afd4ac899d4d",
        "colab": {
          "base_uri": "https://localhost:8080/",
          "height": 413
        }
      },
      "source": [
        "model_gbr = GradientBoostingRegressor(learning_rate=0.2, verbose=True)\n",
        "model_gbr.fit(X_Train, Y_Train)\n",
        "pred_train_gbr = np.clip(model_gbr.predict(X_Train), a_min=0.0, a_max=None)\n",
        "pred_val_gbr = np.clip(model_gbr.predict(X_Test), a_min=0.0, a_max=None)"
      ],
      "execution_count": 18,
      "outputs": [
        {
          "output_type": "stream",
          "text": [
            "/usr/local/lib/python3.6/dist-packages/sklearn/ensemble/gradient_boosting.py:1450: DataConversionWarning: A column-vector y was passed when a 1d array was expected. Please change the shape of y to (n_samples, ), for example using ravel().\n",
            "  y = column_or_1d(y, warn=True)\n"
          ],
          "name": "stderr"
        },
        {
          "output_type": "stream",
          "text": [
            "      Iter       Train Loss   Remaining Time \n",
            "         1         228.4059           29.51s\n",
            "         2         192.9713           29.01s\n",
            "         3         169.7007           28.39s\n",
            "         4         154.2997           28.20s\n",
            "         5         143.8966           27.80s\n",
            "         6         137.0297           27.42s\n",
            "         7         132.3163           27.20s\n",
            "         8         129.0338           26.82s\n",
            "         9         126.7013           26.59s\n",
            "        10         125.0511           26.26s\n",
            "        20         119.6136           21.70s\n",
            "        30         117.1160           18.25s\n",
            "        40         116.1330           15.57s\n",
            "        50         115.2428           12.77s\n",
            "        60         114.1784           10.15s\n",
            "        70         113.1615            7.57s\n",
            "        80         111.4666            5.05s\n",
            "        90         110.4180            2.49s\n",
            "       100         110.0481            0.00s\n"
          ],
          "name": "stdout"
        }
      ]
    },
    {
      "cell_type": "markdown",
      "metadata": {
        "id": "TEVSu-fuq8U4",
        "colab_type": "text"
      },
      "source": [
        "KNR"
      ]
    },
    {
      "cell_type": "code",
      "metadata": {
        "id": "1wcn0SQIqeoR",
        "colab_type": "code",
        "colab": {}
      },
      "source": [
        "model_knr = KNeighborsRegressor(n_neighbors=5, n_jobs=-1)\n",
        "model_knr.fit(X_Train, Y_Train)\n",
        "pred_train_knr = np.clip(model_knr.predict(X_Train), a_min=0.0, a_max=None)\n",
        "pred_val_knr = np.clip(model_knr.predict(X_Test), a_min=0.0, a_max=None)"
      ],
      "execution_count": 0,
      "outputs": []
    },
    {
      "cell_type": "markdown",
      "metadata": {
        "id": "RSFR42xGrADt",
        "colab_type": "text"
      },
      "source": [
        "average of multiple models"
      ]
    },
    {
      "cell_type": "code",
      "metadata": {
        "id": "QcsArpF4qelw",
        "colab_type": "code",
        "colab": {}
      },
      "source": [
        "del model_gbr, model_knr, X_Train, X_Test\n",
        "pred_train_mix = (pred_train_gbr + np.ravel(pred_train_knr))/2\n",
        "pred_val_mix = (pred_val_gbr + np.ravel(pred_val_knr))/2"
      ],
      "execution_count": 0,
      "outputs": []
    },
    {
      "cell_type": "markdown",
      "metadata": {
        "id": "4Wamw26orCGg",
        "colab_type": "text"
      },
      "source": [
        "fit and predict"
      ]
    },
    {
      "cell_type": "code",
      "metadata": {
        "id": "4vFfoBWLqejF",
        "colab_type": "code",
        "colab": {
          "base_uri": "https://localhost:8080/",
          "height": 71
        },
        "outputId": "0b572b0a-8a57-4ac5-aa54-254af9194ba9"
      },
      "source": [
        "print('GradientBoostingRegressor RMSLE: Train/Validation', rmsle(Y_Train, pred_train_gbr), rmsle(Y_Test, pred_val_gbr))\n",
        "del pred_train_gbr, pred_val_gbr\n",
        "print('KNeighborsRegressor RMSLE: Train/Validation', rmsle(Y_Train, pred_train_knr), rmsle(Y_Test, pred_val_knr))\n",
        "del pred_train_knr, pred_val_knr\n",
        "print('MixedRegressor RMSLE: Train/Validation', rmsle(Y_Train, pred_train_mix), rmsle(Y_Test, pred_val_mix))"
      ],
      "execution_count": 21,
      "outputs": [
        {
          "output_type": "stream",
          "text": [
            "GradientBoostingRegressor RMSLE: Train/Validation 0.5247692158717373 0.5247264344959222\n",
            "KNeighborsRegressor RMSLE: Train/Validation 0.46774386204978086 0.5552487304676763\n",
            "MixedRegressor RMSLE: Train/Validation 0.482354684076631 0.5238122695866969\n"
          ],
          "name": "stdout"
        }
      ]
    },
    {
      "cell_type": "code",
      "metadata": {
        "id": "59cntM1S4B3W",
        "colab_type": "code",
        "colab": {}
      },
      "source": [
        ""
      ],
      "execution_count": 0,
      "outputs": []
    }
  ]
}