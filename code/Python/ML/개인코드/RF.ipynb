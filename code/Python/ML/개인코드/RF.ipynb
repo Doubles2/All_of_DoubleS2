{
  "nbformat": 4,
  "nbformat_minor": 0,
  "metadata": {
    "colab": {
      "name": "RF.ipynb",
      "provenance": [],
      "collapsed_sections": [],
      "include_colab_link": true
    },
    "kernelspec": {
      "name": "python3",
      "display_name": "Python 3"
    }
  },
  "cells": [
    {
      "cell_type": "markdown",
      "metadata": {
        "id": "view-in-github",
        "colab_type": "text"
      },
      "source": [
        "<a href=\"https://colab.research.google.com/github/Doubles2/LDCC/blob/master/RF.ipynb\" target=\"_parent\"><img src=\"https://colab.research.google.com/assets/colab-badge.svg\" alt=\"Open In Colab\"/></a>"
      ]
    },
    {
      "cell_type": "code",
      "metadata": {
        "id": "D5q4tXYTNtrI",
        "colab_type": "code",
        "colab": {}
      },
      "source": [
        "import pandas as pd\n",
        "import numpy as np\n",
        "from sklearn.ensemble import RandomForestRegressor as RFR"
      ],
      "execution_count": 0,
      "outputs": []
    },
    {
      "cell_type": "markdown",
      "metadata": {
        "id": "IF3lXPSBOFk9",
        "colab_type": "text"
      },
      "source": [
        "Data Load"
      ]
    },
    {
      "cell_type": "code",
      "metadata": {
        "id": "hOojA-ANOFJM",
        "colab_type": "code",
        "outputId": "5a1bf451-83ac-40e4-e732-a3b9534cd465",
        "colab": {
          "base_uri": "https://localhost:8080/",
          "height": 127
        }
      },
      "source": [
        "#구글 드라이브에서 업로드\n",
        "from google.colab import drive\n",
        "drive.mount('/gdrive')"
      ],
      "execution_count": 0,
      "outputs": [
        {
          "output_type": "stream",
          "text": [
            "Go to this URL in a browser: https://accounts.google.com/o/oauth2/auth?client_id=947318989803-6bn6qk8qdgf4n4g3pfee6491hc0brc4i.apps.googleusercontent.com&redirect_uri=urn%3aietf%3awg%3aoauth%3a2.0%3aoob&response_type=code&scope=email%20https%3a%2f%2fwww.googleapis.com%2fauth%2fdocs.test%20https%3a%2f%2fwww.googleapis.com%2fauth%2fdrive%20https%3a%2f%2fwww.googleapis.com%2fauth%2fdrive.photos.readonly%20https%3a%2f%2fwww.googleapis.com%2fauth%2fpeopleapi.readonly\n",
            "\n",
            "Enter your authorization code:\n",
            "··········\n",
            "Mounted at /gdrive\n"
          ],
          "name": "stdout"
        }
      ]
    },
    {
      "cell_type": "code",
      "metadata": {
        "id": "TvPKOXZEOH5L",
        "colab_type": "code",
        "colab": {}
      },
      "source": [
        "X_Train = pd.read_csv('/gdrive/My Drive/Colab Notebooks/dataset/train_data.csv')\n",
        "Y_Train = pd.read_csv('/gdrive/My Drive/Colab Notebooks//dataset/train_label.csv')\n",
        "X_Test = pd.read_csv('/gdrive/My Drive/Colab Notebooks//dataset/test_data.csv')\n",
        "Y_Test = pd.read_csv('/gdrive/My Drive/Colab Notebooks//dataset/test_label.csv')"
      ],
      "execution_count": 0,
      "outputs": []
    },
    {
      "cell_type": "code",
      "metadata": {
        "id": "3w7cI6UDOIsm",
        "colab_type": "code",
        "outputId": "867d3d7b-a7b5-428a-a7c1-e2a6a25db779",
        "colab": {
          "base_uri": "https://localhost:8080/",
          "height": 89
        }
      },
      "source": [
        "print('X_Train : ', X_Train.shape)\n",
        "print('Y_Train : ', Y_Train.shape)\n",
        "print('X_Test : ', X_Test.shape)\n",
        "print('Y_Test : ', Y_Test.shape)"
      ],
      "execution_count": 0,
      "outputs": [
        {
          "output_type": "stream",
          "text": [
            "X_Train :  (201686, 22)\n",
            "Y_Train :  (201686, 1)\n",
            "X_Test :  (50422, 22)\n",
            "Y_Test :  (50422, 1)\n"
          ],
          "name": "stdout"
        }
      ]
    },
    {
      "cell_type": "markdown",
      "metadata": {
        "id": "ufVEEAhyPF5k",
        "colab_type": "text"
      },
      "source": [
        "function"
      ]
    },
    {
      "cell_type": "code",
      "metadata": {
        "id": "SrlXaOiGPFwl",
        "colab_type": "code",
        "colab": {}
      },
      "source": [
        "def rmsle(y, pred):\n",
        "  from sklearn.metrics import mean_squared_log_error\n",
        "  return mean_squared_log_error(y, pred)**0.5"
      ],
      "execution_count": 0,
      "outputs": []
    },
    {
      "cell_type": "markdown",
      "metadata": {
        "id": "WnrGA3oEONsj",
        "colab_type": "text"
      },
      "source": [
        "Algorithm"
      ]
    },
    {
      "cell_type": "code",
      "metadata": {
        "id": "u6yXsI6dONly",
        "colab_type": "code",
        "outputId": "7411ea01-fdf0-4d67-bb86-9b48671020d8",
        "colab": {
          "base_uri": "https://localhost:8080/",
          "height": 377
        }
      },
      "source": [
        "n_tree_list = [100, 200, 300, 400, 500]\n",
        "min_samples_split_list = [2, 4, 8, 16]\n",
        "\n",
        "\n",
        "for n_tree in n_tree_list :\n",
        "    for n_min_sample_split in min_samples_split_list :\n",
        "        RF_Regressor = RFR(criterion = 'mse'\n",
        "                , n_estimators = n_tree\n",
        "                , min_samples_split = n_min_sample_split\n",
        "                , min_samples_leaf = 20\n",
        "                , oob_score = False)\n",
        "        \n",
        "        y_r = np.ravel(Y_Train)\n",
        "        RF_Regressor.fit(X_Train, y_r)\n",
        "        y_pred = RF_Regressor.predict(X_Test)\n",
        "        y_t = np.ravel(Y_Test)\n",
        "        \n",
        "        print('n_estimators : ', n_tree\n",
        "              ,' / min_samples_split : ', n_min_sample_split\n",
        "              , ' / RMSLE : ', rmsle(y_t, y_pred))"
      ],
      "execution_count": 0,
      "outputs": [
        {
          "output_type": "stream",
          "text": [
            "n_estimators :  100  / min_samples_split :  2  / RMSLE :  0.5140801518505629\n",
            "n_estimators :  100  / min_samples_split :  4  / RMSLE :  0.5137264551259763\n",
            "n_estimators :  100  / min_samples_split :  8  / RMSLE :  0.5139177716586782\n",
            "n_estimators :  100  / min_samples_split :  16  / RMSLE :  0.5137445071126963\n",
            "n_estimators :  200  / min_samples_split :  2  / RMSLE :  0.513480731349058\n",
            "n_estimators :  200  / min_samples_split :  4  / RMSLE :  0.513666476634007\n",
            "n_estimators :  200  / min_samples_split :  8  / RMSLE :  0.5137138646005937\n",
            "n_estimators :  200  / min_samples_split :  16  / RMSLE :  0.5136368314851989\n",
            "n_estimators :  300  / min_samples_split :  2  / RMSLE :  0.513689283238925\n",
            "n_estimators :  300  / min_samples_split :  4  / RMSLE :  0.5136828702280732\n",
            "n_estimators :  300  / min_samples_split :  8  / RMSLE :  0.5135870695492315\n",
            "n_estimators :  300  / min_samples_split :  16  / RMSLE :  0.513599876009228\n",
            "n_estimators :  400  / min_samples_split :  2  / RMSLE :  0.5136209993351795\n",
            "n_estimators :  400  / min_samples_split :  4  / RMSLE :  0.5136505220719604\n",
            "n_estimators :  400  / min_samples_split :  8  / RMSLE :  0.5136570000928962\n",
            "n_estimators :  400  / min_samples_split :  16  / RMSLE :  0.5135526821706994\n",
            "n_estimators :  500  / min_samples_split :  2  / RMSLE :  0.5135898050978311\n",
            "n_estimators :  500  / min_samples_split :  4  / RMSLE :  0.5135827071033463\n",
            "n_estimators :  500  / min_samples_split :  8  / RMSLE :  0.5134924859980893\n",
            "n_estimators :  500  / min_samples_split :  16  / RMSLE :  0.513525381830649\n"
          ],
          "name": "stdout"
        }
      ]
    },
    {
      "cell_type": "code",
      "metadata": {
        "id": "cQuoaTZoPtWf",
        "colab_type": "code",
        "colab": {}
      },
      "source": [
        ""
      ],
      "execution_count": 0,
      "outputs": []
    }
  ]
}