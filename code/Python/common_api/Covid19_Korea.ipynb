{
 "cells": [
  {
   "cell_type": "code",
   "execution_count": 15,
   "metadata": {},
   "outputs": [],
   "source": [
    "import requests\n",
    "from urllib.request import Request, urlopen\n",
    "from urllib.parse import urlencode, quote_plus, unquote\n",
    "import json\n",
    "import xmltodict\n",
    "import pandas as pd"
   ]
  },
  {
   "cell_type": "code",
   "execution_count": 16,
   "metadata": {},
   "outputs": [],
   "source": [
    "url = 'http://openapi.data.go.kr/openapi/service/rest/Covid19/getCovid19InfStateJson'\n",
    "serviceKey = '3f%2FnmTs7kFeKIVO%2FQYey91YeNYJL5W7HtOKfhVj3cr4a7coxcZmXf6zHssAg2pa9gMjgTxE%2FfpT%2B8CfWb2NEWA%3D%3D'\n",
    "pageNo = '1'\n",
    "numOfRows = '10'\n",
    "_type = 'xml'"
   ]
  },
  {
   "cell_type": "code",
   "execution_count": 17,
   "metadata": {},
   "outputs": [],
   "source": [
    "# 해당 컬럼 작성\n",
    "coloumns = [\"resultCode\"\n",
    "           , \"resultMsg\"\n",
    "           , \"numOfRows\"\n",
    "           , \"pageNo\"\n",
    "           , \"totalCount\"\n",
    "           , \"seq\"\n",
    "           , \"stateDt\"\n",
    "           , \"stateTime\"\n",
    "           , \"decideCnt\"\n",
    "           , \"clearCnt\"\n",
    "           , \"examCnt\"\n",
    "           , \"deathCnt\"\n",
    "           , \"careCnt\"\n",
    "           , \"resutlNegCnt\"\n",
    "           , \"accExamCnt\"\n",
    "           , \"accExamCompCnt\"\n",
    "           , \"accDefRate\"\n",
    "           , \"createDt\"\n",
    "           , \"updateDt\"]"
   ]
  },
  {
   "cell_type": "code",
   "execution_count": 18,
   "metadata": {},
   "outputs": [],
   "source": [
    "# \n",
    "def return_list_from_respose(List) -> list :\n",
    "    return [\n",
    "         List[\"response\"][\"header\"][\"resultCode\"]\n",
    "        ,List[\"response\"][\"header\"][\"resultMsg\"]\n",
    "        ,List[\"response\"][\"body\"][\"item\"][\"numOfRows\"]\n",
    "        ,List[\"response\"][\"body\"][\"items\"][\"pageNo\"]\n",
    "        ,List[\"response\"][\"body\"][\"items\"][\"totalCount\"]\n",
    "        ,List[\"response\"][\"body\"][\"items\"][\"item\"][\"seq\"]\n",
    "        ,List[\"response\"][\"body\"][\"items\"][\"item\"][\"stateDt\"]\n",
    "        ,List[\"response\"][\"body\"][\"items\"][\"item\"][\"stateTime\"]\n",
    "        ,List[\"response\"][\"body\"][\"items\"][\"item\"][\"decideCnt\"]\n",
    "        ,List[\"response\"][\"body\"][\"items\"][\"item\"][\"clearCnt\"]\n",
    "        ,List[\"response\"][\"body\"][\"items\"][\"item\"][\"examCnt\"]\n",
    "        ,List[\"response\"][\"body\"][\"items\"][\"item\"][\"deathCnt\"]\n",
    "        ,List[\"response\"][\"body\"][\"items\"][\"item\"][\"careCnt\"]\n",
    "        ,List[\"response\"][\"body\"][\"items\"][\"item\"][\"resutlNegCnt\"]\n",
    "        ,List[\"response\"][\"body\"][\"items\"][\"item\"][\"accExamCnt\"]\n",
    "        ,List[\"response\"][\"body\"][\"items\"][\"item\"][\"accExamCompCnt\"]\n",
    "        ,List[\"response\"][\"body\"][\"items\"][\"item\"][\"accDefRate\"]\n",
    "        ,List[\"response\"][\"body\"][\"items\"][\"item\"][\"createDt\"]\n",
    "        ,List[\"response\"][\"body\"][\"items\"][\"item\"][\"updateDt\"]\n",
    "    ]"
   ]
  },
  {
   "cell_type": "code",
   "execution_count": 19,
   "metadata": {},
   "outputs": [],
   "source": [
    "# parse 합치기\n",
    "def concat_parse(url, serviceKey, pageNo, numOfRows, _type) -> str :\n",
    "    return url + \\\n",
    "     \"?serviceKey=\" + serviceKey + \\\n",
    "     \"&pageNo=\" + pageNo + \\\n",
    "     \"&numOfRows=\" + numOfRows + \\\n",
    "     \"&type=\" + _type"
   ]
  },
  {
   "cell_type": "code",
   "execution_count": 20,
   "metadata": {},
   "outputs": [
    {
     "name": "stdout",
     "output_type": "stream",
     "text": [
      "http://openapi.data.go.kr/openapi/service/rest/Covid19/getCovid19InfStateJson?serviceKey=3f%2FnmTs7kFeKIVO%2FQYey91YeNYJL5W7HtOKfhVj3cr4a7coxcZmXf6zHssAg2pa9gMjgTxE%2FfpT%2B8CfWb2NEWA%3D%3D&pageNo=1&numOfRows=10&type=xml\n"
     ]
    }
   ],
   "source": [
    "# parse check\n",
    "tot = concat_parse(url, serviceKey, pageNo, numOfRows, _type)\n",
    "print(tot)"
   ]
  },
  {
   "cell_type": "code",
   "execution_count": 21,
   "metadata": {},
   "outputs": [
    {
     "name": "stdout",
     "output_type": "stream",
     "text": [
      "idx :  1\n",
      "{'response': {'header': {'resultCode': '99', 'resultMsg': 'LIMITED NUMBER OF SERVICE REQUESTS EXCEEDS ERROR.'}}}\n",
      "error :  'body'\n"
     ]
    }
   ],
   "source": [
    "error_code = [0, 1, 2, 3, 4\n",
    "             , 5, 10, 11, 12, 20, 21, 22\n",
    "             , 30, 31, 32, 33, 99]\n",
    "res = []\n",
    "idx = 1\n",
    "\n",
    "try :        \n",
    "    while idx < 2 :        \n",
    "        print(\"idx : \", idx)\n",
    "        \n",
    "        pageNo = str(idx)\n",
    "        tot = concat_parse(url, serviceKey, pageNo, numOfRows, _type)\n",
    "        response = urlopen(tot)\n",
    "#         response = requests.get(url).json()\n",
    "        \n",
    "        getCode = response.getcode()\n",
    "        if getCode in error_code :\n",
    "            print(\"getcode() : \", getCode, \" => break!\")\n",
    "            break\n",
    "            \n",
    "        \n",
    "        response_body = response.read().decode('utf-8')\n",
    "        jsonString = json.dumps(xmltodict.parse(response_body))        \n",
    "        json_object = json.loads(jsonString)\n",
    "        print(json_object)\n",
    "        tmp = return_list_from_respose(json_object)\n",
    "        print(tmp)\n",
    "        res.extend(tmp)    \n",
    "        \n",
    "        print(idx,\" 완료\")\n",
    "        idx += 1\n",
    "        print(\"================\")\n",
    "        \n",
    "except Exception as ex:\n",
    "    # 여기서 진짜 에러와 끝이란 걸 어떻게 알 수 있지?\n",
    "    # 일단, 끝이 있으니까 그만 돌게 한 의도는 설계 완료!\n",
    "    print(\"error : \", ex)"
   ]
  },
  {
   "cell_type": "code",
   "execution_count": null,
   "metadata": {},
   "outputs": [],
   "source": [
    "# 테이블 변환\n",
    "parsing_table = pd.DataFrame(res, columns = coloumns)\n",
    "parsing_table.head()"
   ]
  },
  {
   "cell_type": "code",
   "execution_count": null,
   "metadata": {},
   "outputs": [],
   "source": [
    "parsing_table.info()"
   ]
  },
  {
   "cell_type": "code",
   "execution_count": null,
   "metadata": {},
   "outputs": [],
   "source": []
  }
 ],
 "metadata": {
  "kernelspec": {
   "display_name": "Python 3",
   "language": "python",
   "name": "python3"
  },
  "language_info": {
   "codemirror_mode": {
    "name": "ipython",
    "version": 3
   },
   "file_extension": ".py",
   "mimetype": "text/x-python",
   "name": "python",
   "nbconvert_exporter": "python",
   "pygments_lexer": "ipython3",
   "version": "3.7.3"
  }
 },
 "nbformat": 4,
 "nbformat_minor": 2
}
