{
 "cells": [
  {
   "cell_type": "code",
   "execution_count": 1,
   "metadata": {},
   "outputs": [],
   "source": [
    "import requests\n",
    "from urllib.request import Request, urlopen\n",
    "from urllib.parse import urlencode, quote_plus, unquote\n",
    "import json\n",
    "import pandas as pd"
   ]
  },
  {
   "cell_type": "code",
   "execution_count": 2,
   "metadata": {},
   "outputs": [],
   "source": [
    "url = 'http://apis.data.go.kr/1741000/DisasterMsg2/getDisasterMsgList'\n",
    "serviceKey = '3f%2FnmTs7kFeKIVO%2FQYey91YeNYJL5W7HtOKfhVj3cr4a7coxcZmXf6zHssAg2pa9gMjgTxE%2FfpT%2B8CfWb2NEWA%3D%3D'\n",
    "pageNo = '1'\n",
    "numOfRows = '1000'\n",
    "_type = 'json'"
   ]
  },
  {
   "cell_type": "code",
   "execution_count": 3,
   "metadata": {},
   "outputs": [],
   "source": [
    "# 해당 컬럼 작성\n",
    "coloumns = [\"create_date\"\n",
    "           , \"location_id\"\n",
    "           , \"location_name\"\n",
    "           , \"md101_sn\"\n",
    "           , \"msg\"\n",
    "           , \"send_platform\"]"
   ]
  },
  {
   "cell_type": "code",
   "execution_count": 4,
   "metadata": {},
   "outputs": [],
   "source": [
    "# \n",
    "def return_list_from_respose(List) -> list :\n",
    "    return [\n",
    "        [ # 내용\n",
    "            List[\"DisasterMsg\"][1][\"row\"][i][\"create_date\"]\n",
    "            , List[\"DisasterMsg\"][1][\"row\"][i][\"location_id\"]\n",
    "            , List[\"DisasterMsg\"][1][\"row\"][i][\"location_name\"]\n",
    "            , List[\"DisasterMsg\"][1][\"row\"][i][\"md101_sn\"]\n",
    "            , List[\"DisasterMsg\"][1][\"row\"][i][\"msg\"]\n",
    "            , List[\"DisasterMsg\"][1][\"row\"][i][\"send_platform\"]\n",
    "        ] \\\n",
    "        for i in range(len(List[\"DisasterMsg\"][1][\"row\"]))\n",
    "    ]"
   ]
  },
  {
   "cell_type": "code",
   "execution_count": 5,
   "metadata": {},
   "outputs": [],
   "source": [
    "# parse 합치기\n",
    "def concat_parse(url, serviceKey, pageNo, numOfRows, _type) -> str :\n",
    "    return url + \\\n",
    "     \"?serviceKey=\" + serviceKey + \\\n",
    "     \"&pageNo=\" + pageNo + \\\n",
    "     \"&numOfRows=\" + numOfRows + \\\n",
    "     \"&type=\" + _type"
   ]
  },
  {
   "cell_type": "code",
   "execution_count": 6,
   "metadata": {},
   "outputs": [],
   "source": [
    "# parse check\n",
    "tot = concat_parse(url, serviceKey, pageNo, numOfRows, _type)\n",
    "#print(tot)"
   ]
  },
  {
   "cell_type": "code",
   "execution_count": 7,
   "metadata": {},
   "outputs": [
    {
     "name": "stdout",
     "output_type": "stream",
     "text": [
      "idx :  1\n",
      "1  완료\n",
      "================\n",
      "idx :  2\n",
      "2  완료\n",
      "================\n",
      "idx :  3\n",
      "3  완료\n",
      "================\n",
      "idx :  4\n",
      "4  완료\n",
      "================\n",
      "idx :  5\n",
      "5  완료\n",
      "================\n",
      "idx :  6\n",
      "error :  'DisasterMsg'\n"
     ]
    }
   ],
   "source": [
    "error_code = [290, 310, 333, 336, 337, 500, 600, 601, 300]\n",
    "res = []\n",
    "idx = 1\n",
    "\n",
    "try :        \n",
    "    while True :        \n",
    "        print(\"idx : \", idx)\n",
    "        \n",
    "        pageNo = str(idx)\n",
    "        tot = concat_parse(url, serviceKey, pageNo, numOfRows, _type)\n",
    "        response = urlopen(tot)\n",
    "        \n",
    "        getCode = response.getcode()\n",
    "        if getCode in error_code :\n",
    "            print(\"getcode() : \", getCode, \" => break!\")\n",
    "            break\n",
    "            \n",
    "        response_body = response.read().decode('utf-8')\n",
    "        json_object = json.loads(response_body)\n",
    "        tmp = return_list_from_respose(json_object)\n",
    "        res.extend(tmp)    \n",
    "        \n",
    "        print(idx,\" 완료\")\n",
    "        idx += 1\n",
    "        print(\"================\")\n",
    "        \n",
    "except Exception as ex:\n",
    "    # 여기서 진짜 에러와 끝이란 걸 어떻게 알 수 있지?\n",
    "    # 일단, 끝이 있으니까 그만 돌게 한 의도는 설계 완료!\n",
    "    print(\"error : \", ex)"
   ]
  },
  {
   "cell_type": "code",
   "execution_count": 8,
   "metadata": {
    "scrolled": true
   },
   "outputs": [
    {
     "data": {
      "text/html": [
       "<div>\n",
       "<style scoped>\n",
       "    .dataframe tbody tr th:only-of-type {\n",
       "        vertical-align: middle;\n",
       "    }\n",
       "\n",
       "    .dataframe tbody tr th {\n",
       "        vertical-align: top;\n",
       "    }\n",
       "\n",
       "    .dataframe thead th {\n",
       "        text-align: right;\n",
       "    }\n",
       "</style>\n",
       "<table border=\"1\" class=\"dataframe\">\n",
       "  <thead>\n",
       "    <tr style=\"text-align: right;\">\n",
       "      <th></th>\n",
       "      <th>create_date</th>\n",
       "      <th>location_id</th>\n",
       "      <th>location_name</th>\n",
       "      <th>md101_sn</th>\n",
       "      <th>msg</th>\n",
       "      <th>send_platform</th>\n",
       "    </tr>\n",
       "  </thead>\n",
       "  <tbody>\n",
       "    <tr>\n",
       "      <th>0</th>\n",
       "      <td>2020/02/20 10:05:18</td>\n",
       "      <td>217</td>\n",
       "      <td>제주특별자치도 전체</td>\n",
       "      <td>25440</td>\n",
       "      <td>[제주특별자치도] 제주에는 코로나19 환자가 없지만 여전히 \"경계\" 상태를 유지하고...</td>\n",
       "      <td>cbs</td>\n",
       "    </tr>\n",
       "    <tr>\n",
       "      <th>1</th>\n",
       "      <td>2020/02/20 09:07:00</td>\n",
       "      <td>93</td>\n",
       "      <td>경상북도 의성군</td>\n",
       "      <td>25439</td>\n",
       "      <td>[의성군재난안전대책본부]발열,기침 등 호흡기 증상시 보건소(830-6662) 또는 ...</td>\n",
       "      <td>cbs</td>\n",
       "    </tr>\n",
       "    <tr>\n",
       "      <th>2</th>\n",
       "      <td>2020/02/20 09:01:33</td>\n",
       "      <td>83</td>\n",
       "      <td>경상북도 상주시</td>\n",
       "      <td>25438</td>\n",
       "      <td>[상주시청]계림동 여성1명 코로나19 양성 판정, 확진 발표 예정.\\r\\n마스크착용...</td>\n",
       "      <td>cbs</td>\n",
       "    </tr>\n",
       "    <tr>\n",
       "      <th>3</th>\n",
       "      <td>2020/02/19 20:55:22</td>\n",
       "      <td>53</td>\n",
       "      <td>경상남도 전체</td>\n",
       "      <td>25437</td>\n",
       "      <td>[경상남도청]대구경북지역 코로나19 확진자 발생. \\n지역전파 차단을 위해 예방수칙...</td>\n",
       "      <td>cbs</td>\n",
       "    </tr>\n",
       "    <tr>\n",
       "      <th>4</th>\n",
       "      <td>2020/02/19 20:43:24</td>\n",
       "      <td>122</td>\n",
       "      <td>부산광역시 기장군</td>\n",
       "      <td>25436</td>\n",
       "      <td>[기장군청] 대구경북지역 코로나19 확진자 19명발생. 지역전파차단을 위해 예방수칙...</td>\n",
       "      <td>cbs</td>\n",
       "    </tr>\n",
       "  </tbody>\n",
       "</table>\n",
       "</div>"
      ],
      "text/plain": [
       "           create_date location_id location_name md101_sn  \\\n",
       "0  2020/02/20 10:05:18         217    제주특별자치도 전체    25440   \n",
       "1  2020/02/20 09:07:00          93      경상북도 의성군    25439   \n",
       "2  2020/02/20 09:01:33          83      경상북도 상주시    25438   \n",
       "3  2020/02/19 20:55:22          53       경상남도 전체    25437   \n",
       "4  2020/02/19 20:43:24         122     부산광역시 기장군    25436   \n",
       "\n",
       "                                                 msg send_platform  \n",
       "0  [제주특별자치도] 제주에는 코로나19 환자가 없지만 여전히 \"경계\" 상태를 유지하고...           cbs  \n",
       "1  [의성군재난안전대책본부]발열,기침 등 호흡기 증상시 보건소(830-6662) 또는 ...           cbs  \n",
       "2  [상주시청]계림동 여성1명 코로나19 양성 판정, 확진 발표 예정.\\r\\n마스크착용...           cbs  \n",
       "3  [경상남도청]대구경북지역 코로나19 확진자 발생. \\n지역전파 차단을 위해 예방수칙...           cbs  \n",
       "4  [기장군청] 대구경북지역 코로나19 확진자 19명발생. 지역전파차단을 위해 예방수칙...           cbs  "
      ]
     },
     "execution_count": 8,
     "metadata": {},
     "output_type": "execute_result"
    }
   ],
   "source": [
    "# 테이블 변환\n",
    "parsing_table = pd.DataFrame(res, columns = coloumns)\n",
    "parsing_table.head()"
   ]
  },
  {
   "cell_type": "code",
   "execution_count": 9,
   "metadata": {},
   "outputs": [
    {
     "name": "stdout",
     "output_type": "stream",
     "text": [
      "<class 'pandas.core.frame.DataFrame'>\n",
      "RangeIndex: 4935 entries, 0 to 4934\n",
      "Data columns (total 6 columns):\n",
      "create_date      4935 non-null object\n",
      "location_id      4935 non-null object\n",
      "location_name    4935 non-null object\n",
      "md101_sn         4935 non-null object\n",
      "msg              4935 non-null object\n",
      "send_platform    4935 non-null object\n",
      "dtypes: object(6)\n",
      "memory usage: 231.4+ KB\n"
     ]
    }
   ],
   "source": [
    "parsing_table.info()"
   ]
  },
  {
   "cell_type": "code",
   "execution_count": 10,
   "metadata": {},
   "outputs": [],
   "source": [
    "parsing_table.to_csv('disaster_msg.csv'\n",
    "                     , index = False\n",
    "                     , encoding = 'cp949')"
   ]
  }
 ],
 "metadata": {
  "kernelspec": {
   "display_name": "Python 3",
   "language": "python",
   "name": "python3"
  },
  "language_info": {
   "codemirror_mode": {
    "name": "ipython",
    "version": 3
   },
   "file_extension": ".py",
   "mimetype": "text/x-python",
   "name": "python",
   "nbconvert_exporter": "python",
   "pygments_lexer": "ipython3",
   "version": "3.7.3"
  }
 },
 "nbformat": 4,
 "nbformat_minor": 2
}
