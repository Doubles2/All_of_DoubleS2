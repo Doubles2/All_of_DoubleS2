{
  "nbformat": 4,
  "nbformat_minor": 0,
  "metadata": {
    "colab": {
      "name": "Book_Contents.ipynb",
      "provenance": [],
      "collapsed_sections": [],
      "authorship_tag": "ABX9TyPk+5pq4F+d9SguKr6rc+VD",
      "include_colab_link": true
    },
    "kernelspec": {
      "name": "python3",
      "display_name": "Python 3"
    }
  },
  "cells": [
    {
      "cell_type": "markdown",
      "metadata": {
        "id": "view-in-github",
        "colab_type": "text"
      },
      "source": [
        "<a href=\"https://colab.research.google.com/github/Doubles2/LDCC/blob/master/Keras/Book_Contents.ipynb\" target=\"_parent\"><img src=\"https://colab.research.google.com/assets/colab-badge.svg\" alt=\"Open In Colab\"/></a>"
      ]
    },
    {
      "cell_type": "markdown",
      "metadata": {
        "id": "NxYIZZhTPsEX",
        "colab_type": "text"
      },
      "source": [
        "개인 스터디 자료 정리 진행"
      ]
    },
    {
      "cell_type": "markdown",
      "metadata": {
        "id": "h5XiLe-XPs06",
        "colab_type": "text"
      },
      "source": [
        "<b> 사내 스터디 코드 및 정리 자료 진행 </b>\n",
        "- 책 : 블록과 함께 하는 파이썬 딥러닝 케라스"
      ]
    },
    {
      "cell_type": "markdown",
      "metadata": {
        "id": "JWSPXXIgP6ni",
        "colab_type": "text"
      },
      "source": [
        "|Contents|||\n",
        "|:---|:---|:---|\n",
        "|Part1|케라스 시작하기|\n",
        "||Chapter 1|케라스 이야기|\n",
        "||Chapter 2|맥에서 케라스 설치하기|\n",
        "||Chapter 3|윈도우에서 케라스 설치하기|\n",
        "|Part2|딥러닝 개념잡기|\n",
        "||Chapter1|데이터셋 이야기|\n",
        "||Chapter2|학습과정 이야기|\n",
        "||Chapter3|학습과정 살펴보기|\n",
        "||Chapter4|학습 조기종료 시키기|\n",
        "||Chapter5|평가 이야기|\n",
        "||Chapter6|학습 모델 보기/저장하기/불러오기|\n",
        "|Part3|레이어 개념잡기|\n",
        "||Chapter1|다층 퍼셉트론 레이어 이야기|\n",
        "||Chapter2|다층 퍼셉트론 신경망 모델 만들어보기|\n",
        "||Chapter3|컨볼루션 신경망 레이어 이야기|\n",
        "||Chapter4|컨볼루션 신경망 모델 만들어보기|\n",
        "||Chapter5|컨볼루션 신경망 모델을 위한 데이터 부풀리기|\n",
        "||Chapter6|순환 신경망 레이어 이야기|\n",
        "||Chapter7|순환 신경망 모델 만들어보기|\n",
        "|Part4|레시피 따라해보기|\n",
        "||Chapter1|수치입력 수치 예측 모델 레시피|\n",
        "||Chapter2|수치입력 이진분류모델 레시피|\n",
        "||Chapter3|수치입력 다중클래스분류모델 레시피|\n",
        "||Chapter4|영상입력 수치 예측 모델 레시피|\n",
        "||Chapter5|영상입력 이진분류모델 레시피|\n",
        "||Chapter6|영상입력 다중클래스분류모델 레시피|\n",
        "||Chapter7|시계열수치입력 수치 예측 모델 레시피|\n",
        "||Chapter8|문장(시계열수치)입력 이진분류모델 레시피|\n",
        "||Chapter9|문장(시계열수치)입력 다중클래스분류모델 레시피|"
      ]
    },
    {
      "cell_type": "code",
      "metadata": {
        "id": "sxbGzhQcQGFM",
        "colab_type": "code",
        "colab": {}
      },
      "source": [
        ""
      ],
      "execution_count": 0,
      "outputs": []
    }
  ]
}