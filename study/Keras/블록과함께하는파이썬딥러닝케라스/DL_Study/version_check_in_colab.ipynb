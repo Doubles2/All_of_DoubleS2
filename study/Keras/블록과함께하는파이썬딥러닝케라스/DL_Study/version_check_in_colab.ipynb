{
  "nbformat": 4,
  "nbformat_minor": 0,
  "metadata": {
    "colab": {
      "name": "version_check_in_colab.ipynb",
      "provenance": [],
      "collapsed_sections": [],
      "authorship_tag": "ABX9TyNF3HEYherFRZJWiJC7RLey",
      "include_colab_link": true
    },
    "kernelspec": {
      "name": "python3",
      "display_name": "Python 3"
    }
  },
  "cells": [
    {
      "cell_type": "markdown",
      "metadata": {
        "id": "view-in-github",
        "colab_type": "text"
      },
      "source": [
        "<a href=\"https://colab.research.google.com/github/Doubles2/LDCC/blob/master/Keras/version_check_in_colab.ipynb\" target=\"_parent\"><img src=\"https://colab.research.google.com/assets/colab-badge.svg\" alt=\"Open In Colab\"/></a>"
      ]
    },
    {
      "cell_type": "code",
      "metadata": {
        "id": "M2d7lB_V8gA0",
        "colab_type": "code",
        "colab": {
          "base_uri": "https://localhost:8080/",
          "height": 100
        },
        "outputId": "8633c911-3fac-43cd-bb89-72b818f2e286"
      },
      "source": [
        "import scipy\n",
        "import numpy\n",
        "import matplotlib\n",
        "import pandas\n",
        "import sklearn\n",
        "import pydot\n",
        "import h5py\n",
        "\n",
        "import theano\n",
        "import tensorflow\n",
        "import keras"
      ],
      "execution_count": 1,
      "outputs": [
        {
          "output_type": "display_data",
          "data": {
            "text/html": [
              "<p style=\"color: red;\">\n",
              "The default version of TensorFlow in Colab will soon switch to TensorFlow 2.x.<br>\n",
              "We recommend you <a href=\"https://www.tensorflow.org/guide/migrate\" target=\"_blank\">upgrade</a> now \n",
              "or ensure your notebook will continue to use TensorFlow 1.x via the <code>%tensorflow_version 1.x</code> magic:\n",
              "<a href=\"https://colab.research.google.com/notebooks/tensorflow_version.ipynb\" target=\"_blank\">more info</a>.</p>\n"
            ],
            "text/plain": [
              "<IPython.core.display.HTML object>"
            ]
          },
          "metadata": {
            "tags": []
          }
        },
        {
          "output_type": "stream",
          "text": [
            "Using TensorFlow backend.\n"
          ],
          "name": "stderr"
        }
      ]
    },
    {
      "cell_type": "code",
      "metadata": {
        "id": "hCv6Kxk38toI",
        "colab_type": "code",
        "colab": {
          "base_uri": "https://localhost:8080/",
          "height": 197
        },
        "outputId": "77ddb786-ced7-4ffa-82b7-67bcef755737"
      },
      "source": [
        "print('scipy : ', scipy.__version__)\n",
        "print('numpy : ', numpy.__version__)\n",
        "print('matplotlib : ', matplotlib.__version__)\n",
        "print('pandas : ', pandas.__version__)\n",
        "print('sklearn : ', sklearn.__version__)\n",
        "print('pydot : ', pydot.__version__)\n",
        "print('h5py : ', h5py.__version__)\n",
        "print('theano : ', theano.__version__)\n",
        "print('tensorflow : ', tensorflow.__version__)\n",
        "print('keras : ', keras.__version__)"
      ],
      "execution_count": 3,
      "outputs": [
        {
          "output_type": "stream",
          "text": [
            "scipy :  1.4.1\n",
            "numpy :  1.17.5\n",
            "matplotlib :  3.1.3\n",
            "pandas :  0.25.3\n",
            "sklearn :  0.22.1\n",
            "pydot :  1.3.0\n",
            "h5py :  2.8.0\n",
            "theano :  1.0.4\n",
            "tensorflow :  1.15.0\n",
            "keras :  2.2.5\n"
          ],
          "name": "stdout"
        }
      ]
    },
    {
      "cell_type": "code",
      "metadata": {
        "id": "C2VO7Z-L9QbE",
        "colab_type": "code",
        "colab": {}
      },
      "source": [
        ""
      ],
      "execution_count": 0,
      "outputs": []
    }
  ]
}