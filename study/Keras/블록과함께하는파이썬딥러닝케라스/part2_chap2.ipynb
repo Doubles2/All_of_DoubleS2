{
  "nbformat": 4,
  "nbformat_minor": 0,
  "metadata": {
    "colab": {
      "name": "part2_chap2.ipynb",
      "provenance": [],
      "authorship_tag": "ABX9TyMXtnpnFf/DxP4my5fBHy+F",
      "include_colab_link": true
    },
    "kernelspec": {
      "name": "python3",
      "display_name": "Python 3"
    }
  },
  "cells": [
    {
      "cell_type": "markdown",
      "metadata": {
        "id": "view-in-github",
        "colab_type": "text"
      },
      "source": [
        "<a href=\"https://colab.research.google.com/github/Doubles2/LDCC/blob/master/Keras/part2_chap2.ipynb\" target=\"_parent\"><img src=\"https://colab.research.google.com/assets/colab-badge.svg\" alt=\"Open In Colab\"/></a>"
      ]
    },
    {
      "cell_type": "code",
      "metadata": {
        "id": "5A2wfFpEBfsJ",
        "colab_type": "code",
        "colab": {
          "base_uri": "https://localhost:8080/",
          "height": 100
        },
        "outputId": "ba4d0db3-6a3b-4b92-c701-c6b47856e15f"
      },
      "source": [
        "# mnist 예제\n",
        "# 0. 사용할 패키지 불러오기\n",
        "import keras\n",
        "from keras.utils import np_utils\n",
        "from keras.datasets import mnist\n",
        "from keras.models import Sequential\n",
        "from keras.layers import Dense, Activation\n",
        "import numpy as np\n",
        "\n",
        "np.random.seed(3)"
      ],
      "execution_count": 1,
      "outputs": [
        {
          "output_type": "stream",
          "text": [
            "Using TensorFlow backend.\n"
          ],
          "name": "stderr"
        },
        {
          "output_type": "display_data",
          "data": {
            "text/html": [
              "<p style=\"color: red;\">\n",
              "The default version of TensorFlow in Colab will soon switch to TensorFlow 2.x.<br>\n",
              "We recommend you <a href=\"https://www.tensorflow.org/guide/migrate\" target=\"_blank\">upgrade</a> now \n",
              "or ensure your notebook will continue to use TensorFlow 1.x via the <code>%tensorflow_version 1.x</code> magic:\n",
              "<a href=\"https://colab.research.google.com/notebooks/tensorflow_version.ipynb\" target=\"_blank\">more info</a>.</p>\n"
            ],
            "text/plain": [
              "<IPython.core.display.HTML object>"
            ]
          },
          "metadata": {
            "tags": []
          }
        }
      ]
    },
    {
      "cell_type": "code",
      "metadata": {
        "id": "u4tOyA2oBotT",
        "colab_type": "code",
        "colab": {
          "base_uri": "https://localhost:8080/",
          "height": 53
        },
        "outputId": "414789f2-1357-42a3-f8e7-ba5a1b2edf40"
      },
      "source": [
        "# 1. 데이터셋 생성하기\n",
        "(x_train, y_train), (x_test, y_test) = mnist.load_data()\n",
        "\n",
        "# 훈련셋과 검증셋 분리\n",
        "x_val = x_train[50000:]\n",
        "y_val = y_train[50000:]\n",
        "x_train = x_train[:50000]\n",
        "y_train = y_train[:50000]\n",
        "\n",
        "# 데이터셋 전처리\n",
        "x_train = x_train.reshape(50000, 784).astype('float32') / 255.0\n",
        "x_val = x_val.reshape(10000, 784).astype('float32') / 255.0\n",
        "x_test = x_test.reshape(10000, 784).astype('float32') / 255.0\n",
        "\n",
        "# 훈련셋과 검증셋 고르기\n",
        "train_rand_idxs = np.random.choice(50000, 700)\n",
        "val_rand_idxs = np.random.choice(10000, 300)\n",
        "x_train = x_train[train_rand_idxs]\n",
        "y_train = y_train[train_rand_idxs]\n",
        "x_val = x_val[val_rand_idxs]\n",
        "y_val = y_val[val_rand_idxs]\n",
        "\n",
        "# 라벨데이터 원핫인코딩 (one-hot encoding) 처리\n",
        "y_train = np_utils.to_categorical(y_train)\n",
        "y_val = np_utils.to_categorical(y_val)\n",
        "y_test = np_utils.to_categorical(y_test)"
      ],
      "execution_count": 2,
      "outputs": [
        {
          "output_type": "stream",
          "text": [
            "Downloading data from https://s3.amazonaws.com/img-datasets/mnist.npz\n",
            "11493376/11490434 [==============================] - 0s 0us/step\n"
          ],
          "name": "stdout"
        }
      ]
    },
    {
      "cell_type": "code",
      "metadata": {
        "id": "Zikbv4gyBpxr",
        "colab_type": "code",
        "colab": {
          "base_uri": "https://localhost:8080/",
          "height": 145
        },
        "outputId": "3d805d4c-d608-4b63-f84d-48e176a9033c"
      },
      "source": [
        "# 2. 모델 구성하기\n",
        "model = Sequential()\n",
        "model.add(Dense(units = 2,\n",
        "                input_dim = 28*28,\n",
        "                activation = 'relu'))\n",
        "\n",
        "model.add(Dense(units = 10,\n",
        "                activation = 'softmax'))"
      ],
      "execution_count": 3,
      "outputs": [
        {
          "output_type": "stream",
          "text": [
            "WARNING:tensorflow:From /usr/local/lib/python3.6/dist-packages/keras/backend/tensorflow_backend.py:66: The name tf.get_default_graph is deprecated. Please use tf.compat.v1.get_default_graph instead.\n",
            "\n",
            "WARNING:tensorflow:From /usr/local/lib/python3.6/dist-packages/keras/backend/tensorflow_backend.py:541: The name tf.placeholder is deprecated. Please use tf.compat.v1.placeholder instead.\n",
            "\n",
            "WARNING:tensorflow:From /usr/local/lib/python3.6/dist-packages/keras/backend/tensorflow_backend.py:4432: The name tf.random_uniform is deprecated. Please use tf.random.uniform instead.\n",
            "\n"
          ],
          "name": "stdout"
        }
      ]
    },
    {
      "cell_type": "code",
      "metadata": {
        "id": "zhrVVPYCBtXg",
        "colab_type": "code",
        "colab": {
          "base_uri": "https://localhost:8080/",
          "height": 109
        },
        "outputId": "bc631b55-bb1d-4ffc-db47-cca64017229b"
      },
      "source": [
        "# 3. 모델 학습과정 설정하기\n",
        "model.compile(loss='categorical_crossentropy',\n",
        "              optimizer = 'sgd',\n",
        "              metrics = ['accuracy'])"
      ],
      "execution_count": 4,
      "outputs": [
        {
          "output_type": "stream",
          "text": [
            "WARNING:tensorflow:From /usr/local/lib/python3.6/dist-packages/keras/optimizers.py:793: The name tf.train.Optimizer is deprecated. Please use tf.compat.v1.train.Optimizer instead.\n",
            "\n",
            "WARNING:tensorflow:From /usr/local/lib/python3.6/dist-packages/keras/backend/tensorflow_backend.py:3576: The name tf.log is deprecated. Please use tf.math.log instead.\n",
            "\n"
          ],
          "name": "stdout"
        }
      ]
    },
    {
      "cell_type": "code",
      "metadata": {
        "id": "-TbyZogTBuVK",
        "colab_type": "code",
        "colab": {
          "base_uri": "https://localhost:8080/",
          "height": 1000
        },
        "outputId": "74cbb2c9-a364-4a18-c215-0abf077bc233"
      },
      "source": [
        "# 4. 모델 학습시키기 - erachstopping 적용\n",
        "from keras.callbacks import EarlyStopping\n",
        "# early_stopping = EarlyStopping() # 감소되다가 증가되자마자 학습을 종료시킴\n",
        "early_stopping = EarlyStopping(patience = 30) # patient를 사용하면 지정된 epoch까지는 training함\n",
        "hist = model.fit(x_train,\n",
        "                 y_train,\n",
        "                 epochs = 3000,\n",
        "                 batch_size = 10,\n",
        "                 validation_data = (x_val, y_val),\n",
        "                 callbacks = [early_stopping]\n",
        "                 )"
      ],
      "execution_count": 9,
      "outputs": [
        {
          "output_type": "stream",
          "text": [
            "Train on 700 samples, validate on 300 samples\n",
            "Epoch 1/3000\n",
            "700/700 [==============================] - 0s 175us/step - loss: 1.8660 - acc: 0.2371 - val_loss: 1.9017 - val_acc: 0.2067\n",
            "Epoch 2/3000\n",
            "700/700 [==============================] - 0s 149us/step - loss: 1.8609 - acc: 0.2386 - val_loss: 1.9034 - val_acc: 0.2000\n",
            "Epoch 3/3000\n",
            "700/700 [==============================] - 0s 147us/step - loss: 1.8556 - acc: 0.2414 - val_loss: 1.9018 - val_acc: 0.2033\n",
            "Epoch 4/3000\n",
            "700/700 [==============================] - 0s 151us/step - loss: 1.8510 - acc: 0.2286 - val_loss: 1.8949 - val_acc: 0.2200\n",
            "Epoch 5/3000\n",
            "700/700 [==============================] - 0s 149us/step - loss: 1.8469 - acc: 0.2429 - val_loss: 1.8916 - val_acc: 0.2000\n",
            "Epoch 6/3000\n",
            "700/700 [==============================] - 0s 154us/step - loss: 1.8429 - acc: 0.2386 - val_loss: 1.8841 - val_acc: 0.2067\n",
            "Epoch 7/3000\n",
            "700/700 [==============================] - 0s 139us/step - loss: 1.8375 - acc: 0.2257 - val_loss: 1.8849 - val_acc: 0.2033\n",
            "Epoch 8/3000\n",
            "700/700 [==============================] - 0s 161us/step - loss: 1.8341 - acc: 0.2443 - val_loss: 1.8799 - val_acc: 0.2000\n",
            "Epoch 9/3000\n",
            "700/700 [==============================] - 0s 161us/step - loss: 1.8297 - acc: 0.2271 - val_loss: 1.8751 - val_acc: 0.1967\n",
            "Epoch 10/3000\n",
            "700/700 [==============================] - 0s 157us/step - loss: 1.8254 - acc: 0.2529 - val_loss: 1.8761 - val_acc: 0.1900\n",
            "Epoch 11/3000\n",
            "700/700 [==============================] - 0s 142us/step - loss: 1.8217 - acc: 0.2314 - val_loss: 1.8693 - val_acc: 0.1933\n",
            "Epoch 12/3000\n",
            "700/700 [==============================] - 0s 143us/step - loss: 1.8168 - acc: 0.2486 - val_loss: 1.8768 - val_acc: 0.1833\n",
            "Epoch 13/3000\n",
            "700/700 [==============================] - 0s 149us/step - loss: 1.8145 - acc: 0.2343 - val_loss: 1.8652 - val_acc: 0.1967\n",
            "Epoch 14/3000\n",
            "700/700 [==============================] - 0s 151us/step - loss: 1.8102 - acc: 0.2414 - val_loss: 1.8599 - val_acc: 0.1900\n",
            "Epoch 15/3000\n",
            "700/700 [==============================] - 0s 154us/step - loss: 1.8070 - acc: 0.2429 - val_loss: 1.8602 - val_acc: 0.2000\n",
            "Epoch 16/3000\n",
            "700/700 [==============================] - 0s 168us/step - loss: 1.8034 - acc: 0.2486 - val_loss: 1.8551 - val_acc: 0.1900\n",
            "Epoch 17/3000\n",
            "700/700 [==============================] - 0s 152us/step - loss: 1.8004 - acc: 0.2529 - val_loss: 1.8582 - val_acc: 0.1900\n",
            "Epoch 18/3000\n",
            "700/700 [==============================] - 0s 159us/step - loss: 1.7965 - acc: 0.2500 - val_loss: 1.8551 - val_acc: 0.1700\n",
            "Epoch 19/3000\n",
            "700/700 [==============================] - 0s 150us/step - loss: 1.7947 - acc: 0.2300 - val_loss: 1.8541 - val_acc: 0.1867\n",
            "Epoch 20/3000\n",
            "700/700 [==============================] - 0s 153us/step - loss: 1.7910 - acc: 0.2443 - val_loss: 1.8517 - val_acc: 0.1800\n",
            "Epoch 21/3000\n",
            "700/700 [==============================] - 0s 154us/step - loss: 1.7884 - acc: 0.2557 - val_loss: 1.8513 - val_acc: 0.1800\n",
            "Epoch 22/3000\n",
            "700/700 [==============================] - 0s 153us/step - loss: 1.7855 - acc: 0.2457 - val_loss: 1.8448 - val_acc: 0.2100\n",
            "Epoch 23/3000\n",
            "700/700 [==============================] - 0s 145us/step - loss: 1.7823 - acc: 0.2600 - val_loss: 1.8438 - val_acc: 0.2000\n",
            "Epoch 24/3000\n",
            "700/700 [==============================] - 0s 146us/step - loss: 1.7794 - acc: 0.2529 - val_loss: 1.8487 - val_acc: 0.1800\n",
            "Epoch 25/3000\n",
            "700/700 [==============================] - 0s 149us/step - loss: 1.7759 - acc: 0.2643 - val_loss: 1.8483 - val_acc: 0.1733\n",
            "Epoch 26/3000\n",
            "700/700 [==============================] - 0s 146us/step - loss: 1.7750 - acc: 0.2471 - val_loss: 1.8461 - val_acc: 0.2233\n",
            "Epoch 27/3000\n",
            "700/700 [==============================] - 0s 150us/step - loss: 1.7715 - acc: 0.2571 - val_loss: 1.8410 - val_acc: 0.2200\n",
            "Epoch 28/3000\n",
            "700/700 [==============================] - 0s 146us/step - loss: 1.7689 - acc: 0.2657 - val_loss: 1.8385 - val_acc: 0.2200\n",
            "Epoch 29/3000\n",
            "700/700 [==============================] - 0s 148us/step - loss: 1.7661 - acc: 0.2629 - val_loss: 1.8430 - val_acc: 0.2367\n",
            "Epoch 30/3000\n",
            "700/700 [==============================] - 0s 150us/step - loss: 1.7644 - acc: 0.2686 - val_loss: 1.8365 - val_acc: 0.2000\n",
            "Epoch 31/3000\n",
            "700/700 [==============================] - 0s 133us/step - loss: 1.7610 - acc: 0.2600 - val_loss: 1.8314 - val_acc: 0.2233\n",
            "Epoch 32/3000\n",
            "700/700 [==============================] - 0s 140us/step - loss: 1.7593 - acc: 0.2600 - val_loss: 1.8329 - val_acc: 0.2233\n",
            "Epoch 33/3000\n",
            "700/700 [==============================] - 0s 142us/step - loss: 1.7566 - acc: 0.2829 - val_loss: 1.8363 - val_acc: 0.2233\n",
            "Epoch 34/3000\n",
            "700/700 [==============================] - 0s 136us/step - loss: 1.7543 - acc: 0.2757 - val_loss: 1.8354 - val_acc: 0.2067\n",
            "Epoch 35/3000\n",
            "700/700 [==============================] - 0s 148us/step - loss: 1.7524 - acc: 0.2657 - val_loss: 1.8325 - val_acc: 0.2033\n",
            "Epoch 36/3000\n",
            "700/700 [==============================] - 0s 146us/step - loss: 1.7501 - acc: 0.2686 - val_loss: 1.8355 - val_acc: 0.2033\n",
            "Epoch 37/3000\n",
            "700/700 [==============================] - 0s 129us/step - loss: 1.7476 - acc: 0.2586 - val_loss: 1.8354 - val_acc: 0.2300\n",
            "Epoch 38/3000\n",
            "700/700 [==============================] - 0s 144us/step - loss: 1.7461 - acc: 0.2629 - val_loss: 1.8310 - val_acc: 0.1967\n",
            "Epoch 39/3000\n",
            "700/700 [==============================] - 0s 135us/step - loss: 1.7442 - acc: 0.2771 - val_loss: 1.8258 - val_acc: 0.2100\n",
            "Epoch 40/3000\n",
            "700/700 [==============================] - 0s 161us/step - loss: 1.7415 - acc: 0.2729 - val_loss: 1.8239 - val_acc: 0.2067\n",
            "Epoch 41/3000\n",
            "700/700 [==============================] - 0s 158us/step - loss: 1.7396 - acc: 0.2757 - val_loss: 1.8227 - val_acc: 0.2000\n",
            "Epoch 42/3000\n",
            "700/700 [==============================] - 0s 134us/step - loss: 1.7373 - acc: 0.2757 - val_loss: 1.8286 - val_acc: 0.2000\n",
            "Epoch 43/3000\n",
            "700/700 [==============================] - 0s 138us/step - loss: 1.7359 - acc: 0.2729 - val_loss: 1.8273 - val_acc: 0.1967\n",
            "Epoch 44/3000\n",
            "700/700 [==============================] - 0s 154us/step - loss: 1.7337 - acc: 0.2871 - val_loss: 1.8254 - val_acc: 0.1967\n",
            "Epoch 45/3000\n",
            "700/700 [==============================] - 0s 145us/step - loss: 1.7312 - acc: 0.2757 - val_loss: 1.8343 - val_acc: 0.2200\n",
            "Epoch 46/3000\n",
            "700/700 [==============================] - 0s 151us/step - loss: 1.7301 - acc: 0.2743 - val_loss: 1.8230 - val_acc: 0.2367\n",
            "Epoch 47/3000\n",
            "700/700 [==============================] - 0s 146us/step - loss: 1.7286 - acc: 0.2814 - val_loss: 1.8205 - val_acc: 0.2167\n",
            "Epoch 48/3000\n",
            "700/700 [==============================] - 0s 153us/step - loss: 1.7248 - acc: 0.2971 - val_loss: 1.8133 - val_acc: 0.2500\n",
            "Epoch 49/3000\n",
            "700/700 [==============================] - 0s 146us/step - loss: 1.7256 - acc: 0.2929 - val_loss: 1.8224 - val_acc: 0.2400\n",
            "Epoch 50/3000\n",
            "700/700 [==============================] - 0s 153us/step - loss: 1.7228 - acc: 0.2857 - val_loss: 1.8248 - val_acc: 0.2000\n",
            "Epoch 51/3000\n",
            "700/700 [==============================] - 0s 158us/step - loss: 1.7208 - acc: 0.2786 - val_loss: 1.8223 - val_acc: 0.2533\n",
            "Epoch 52/3000\n",
            "700/700 [==============================] - 0s 155us/step - loss: 1.7197 - acc: 0.2843 - val_loss: 1.8207 - val_acc: 0.2500\n",
            "Epoch 53/3000\n",
            "700/700 [==============================] - 0s 144us/step - loss: 1.7177 - acc: 0.2900 - val_loss: 1.8255 - val_acc: 0.2033\n",
            "Epoch 54/3000\n",
            "700/700 [==============================] - 0s 157us/step - loss: 1.7163 - acc: 0.2814 - val_loss: 1.8307 - val_acc: 0.2133\n",
            "Epoch 55/3000\n",
            "700/700 [==============================] - 0s 151us/step - loss: 1.7155 - acc: 0.2771 - val_loss: 1.8187 - val_acc: 0.2400\n",
            "Epoch 56/3000\n",
            "700/700 [==============================] - 0s 161us/step - loss: 1.7138 - acc: 0.2829 - val_loss: 1.8163 - val_acc: 0.2200\n",
            "Epoch 57/3000\n",
            "700/700 [==============================] - 0s 152us/step - loss: 1.7114 - acc: 0.2914 - val_loss: 1.8200 - val_acc: 0.2467\n",
            "Epoch 58/3000\n",
            "700/700 [==============================] - 0s 154us/step - loss: 1.7099 - acc: 0.3057 - val_loss: 1.8290 - val_acc: 0.2133\n",
            "Epoch 59/3000\n",
            "700/700 [==============================] - 0s 141us/step - loss: 1.7089 - acc: 0.2900 - val_loss: 1.8157 - val_acc: 0.2033\n",
            "Epoch 60/3000\n",
            "700/700 [==============================] - 0s 131us/step - loss: 1.7067 - acc: 0.2929 - val_loss: 1.8215 - val_acc: 0.2400\n",
            "Epoch 61/3000\n",
            "700/700 [==============================] - 0s 140us/step - loss: 1.7053 - acc: 0.3071 - val_loss: 1.8198 - val_acc: 0.2033\n",
            "Epoch 62/3000\n",
            "700/700 [==============================] - 0s 149us/step - loss: 1.7041 - acc: 0.2829 - val_loss: 1.8183 - val_acc: 0.2467\n",
            "Epoch 63/3000\n",
            "700/700 [==============================] - 0s 134us/step - loss: 1.7014 - acc: 0.2929 - val_loss: 1.8082 - val_acc: 0.2167\n",
            "Epoch 64/3000\n",
            "700/700 [==============================] - 0s 132us/step - loss: 1.7005 - acc: 0.3029 - val_loss: 1.8179 - val_acc: 0.2700\n",
            "Epoch 65/3000\n",
            "700/700 [==============================] - 0s 140us/step - loss: 1.7001 - acc: 0.3129 - val_loss: 1.8186 - val_acc: 0.2233\n",
            "Epoch 66/3000\n",
            "700/700 [==============================] - 0s 134us/step - loss: 1.6986 - acc: 0.2886 - val_loss: 1.8193 - val_acc: 0.2233\n",
            "Epoch 67/3000\n",
            "700/700 [==============================] - 0s 153us/step - loss: 1.6968 - acc: 0.3100 - val_loss: 1.8204 - val_acc: 0.2100\n",
            "Epoch 68/3000\n",
            "700/700 [==============================] - 0s 136us/step - loss: 1.6938 - acc: 0.3086 - val_loss: 1.8199 - val_acc: 0.2767\n",
            "Epoch 69/3000\n",
            "700/700 [==============================] - 0s 157us/step - loss: 1.6950 - acc: 0.3029 - val_loss: 1.8133 - val_acc: 0.2467\n",
            "Epoch 70/3000\n",
            "700/700 [==============================] - 0s 151us/step - loss: 1.6931 - acc: 0.3057 - val_loss: 1.8148 - val_acc: 0.2233\n",
            "Epoch 71/3000\n",
            "700/700 [==============================] - 0s 138us/step - loss: 1.6915 - acc: 0.2900 - val_loss: 1.8155 - val_acc: 0.2500\n",
            "Epoch 72/3000\n",
            "700/700 [==============================] - 0s 140us/step - loss: 1.6902 - acc: 0.2957 - val_loss: 1.8215 - val_acc: 0.2400\n",
            "Epoch 73/3000\n",
            "700/700 [==============================] - 0s 143us/step - loss: 1.6887 - acc: 0.3029 - val_loss: 1.8134 - val_acc: 0.2300\n",
            "Epoch 74/3000\n",
            "700/700 [==============================] - 0s 141us/step - loss: 1.6881 - acc: 0.3143 - val_loss: 1.8157 - val_acc: 0.2233\n",
            "Epoch 75/3000\n",
            "700/700 [==============================] - 0s 145us/step - loss: 1.6863 - acc: 0.3086 - val_loss: 1.8167 - val_acc: 0.2200\n",
            "Epoch 76/3000\n",
            "700/700 [==============================] - 0s 143us/step - loss: 1.6843 - acc: 0.3129 - val_loss: 1.8160 - val_acc: 0.2267\n",
            "Epoch 77/3000\n",
            "700/700 [==============================] - 0s 151us/step - loss: 1.6839 - acc: 0.3100 - val_loss: 1.8151 - val_acc: 0.2400\n",
            "Epoch 78/3000\n",
            "700/700 [==============================] - 0s 146us/step - loss: 1.6831 - acc: 0.3000 - val_loss: 1.8158 - val_acc: 0.2633\n",
            "Epoch 79/3000\n",
            "700/700 [==============================] - 0s 148us/step - loss: 1.6820 - acc: 0.3143 - val_loss: 1.8199 - val_acc: 0.2300\n",
            "Epoch 80/3000\n",
            "700/700 [==============================] - 0s 151us/step - loss: 1.6788 - acc: 0.3100 - val_loss: 1.8204 - val_acc: 0.2800\n",
            "Epoch 81/3000\n",
            "700/700 [==============================] - 0s 135us/step - loss: 1.6791 - acc: 0.3114 - val_loss: 1.8174 - val_acc: 0.2233\n",
            "Epoch 82/3000\n",
            "700/700 [==============================] - 0s 136us/step - loss: 1.6777 - acc: 0.3229 - val_loss: 1.8120 - val_acc: 0.2233\n",
            "Epoch 83/3000\n",
            "700/700 [==============================] - 0s 151us/step - loss: 1.6768 - acc: 0.3100 - val_loss: 1.8157 - val_acc: 0.2300\n",
            "Epoch 84/3000\n",
            "700/700 [==============================] - 0s 137us/step - loss: 1.6757 - acc: 0.3043 - val_loss: 1.8188 - val_acc: 0.2267\n",
            "Epoch 85/3000\n",
            "700/700 [==============================] - 0s 137us/step - loss: 1.6744 - acc: 0.3186 - val_loss: 1.8202 - val_acc: 0.2333\n",
            "Epoch 86/3000\n",
            "700/700 [==============================] - 0s 141us/step - loss: 1.6724 - acc: 0.3271 - val_loss: 1.8242 - val_acc: 0.2300\n",
            "Epoch 87/3000\n",
            "700/700 [==============================] - 0s 131us/step - loss: 1.6718 - acc: 0.3043 - val_loss: 1.8174 - val_acc: 0.2133\n",
            "Epoch 88/3000\n",
            "700/700 [==============================] - 0s 145us/step - loss: 1.6715 - acc: 0.3129 - val_loss: 1.8167 - val_acc: 0.2267\n",
            "Epoch 89/3000\n",
            "700/700 [==============================] - 0s 134us/step - loss: 1.6695 - acc: 0.3129 - val_loss: 1.8144 - val_acc: 0.2167\n",
            "Epoch 90/3000\n",
            "700/700 [==============================] - 0s 139us/step - loss: 1.6691 - acc: 0.3029 - val_loss: 1.8173 - val_acc: 0.2200\n",
            "Epoch 91/3000\n",
            "700/700 [==============================] - 0s 159us/step - loss: 1.6674 - acc: 0.3057 - val_loss: 1.8192 - val_acc: 0.2267\n",
            "Epoch 92/3000\n",
            "700/700 [==============================] - 0s 134us/step - loss: 1.6670 - acc: 0.3129 - val_loss: 1.8218 - val_acc: 0.2267\n",
            "Epoch 93/3000\n",
            "700/700 [==============================] - 0s 155us/step - loss: 1.6656 - acc: 0.3043 - val_loss: 1.8177 - val_acc: 0.2467\n"
          ],
          "name": "stdout"
        }
      ]
    },
    {
      "cell_type": "code",
      "metadata": {
        "id": "qKIhLD6dB7zI",
        "colab_type": "code",
        "colab": {
          "base_uri": "https://localhost:8080/",
          "height": 279
        },
        "outputId": "66263308-7792-4354-8edd-1baae2558fb1"
      },
      "source": [
        "# 5. 학습과정 살펴보기\n",
        "import matplotlib.pyplot as plt\n",
        "%matplotlib inline\n",
        "\n",
        "fig, loss_ax = plt.subplots()\n",
        "acc_ax = loss_ax.twinx()\n",
        "\n",
        "loss_ax.plot(hist.history['loss'],\n",
        "             'y',\n",
        "             label = 'train loss')\n",
        "\n",
        "loss_ax.plot(hist.history['val_loss'],\n",
        "             'r',\n",
        "             label = 'val loss')\n",
        "\n",
        "acc_ax.plot(hist.history['acc'],\n",
        "             'b',\n",
        "             label = 'train acc')\n",
        "\n",
        "acc_ax.plot(hist.history['val_acc'],\n",
        "             'g',\n",
        "             label = 'val acc')\n",
        "\n",
        "loss_ax.set_xlabel('epoch')\n",
        "loss_ax.set_ylabel('loss')\n",
        "acc_ax.set_ylabel('epoch')\n",
        "\n",
        "loss_ax.legend(loc = 'upper left')\n",
        "acc_ax.legend(loc = 'lower left')\n",
        "\n",
        "plt.show()"
      ],
      "execution_count": 10,
      "outputs": [
        {
          "output_type": "display_data",
          "data": {
            "image/png": "[encoded data removed]",
            "text/plain": [
              "<Figure size 432x288 with 2 Axes>"
            ]
          },
          "metadata": {
            "tags": []
          }
        }
      ]
    },
    {
      "cell_type": "code",
      "metadata": {
        "id": "gK-6T3QXB_Nu",
        "colab_type": "code",
        "colab": {
          "base_uri": "https://localhost:8080/",
          "height": 89
        },
        "outputId": "99d27c2f-4973-4057-c4ee-7f89284cfde8"
      },
      "source": [
        "# 6. 모델 평가하기\n",
        "loss_and_metrics = model.evaluate(x_test, y_test, batch_size = 32)\n",
        "print('')\n",
        "print('loss : ', str(loss_and_metrics[0]))\n",
        "print('accuracy : ', str(loss_and_metrics[1]))"
      ],
      "execution_count": 11,
      "outputs": [
        {
          "output_type": "stream",
          "text": [
            "10000/10000 [==============================] - 0s 19us/step\n",
            "\n",
            "loss :  1.8396679862976075\n",
            "accuracy :  0.2752\n"
          ],
          "name": "stdout"
        }
      ]
    },
    {
      "cell_type": "code",
      "metadata": {
        "id": "GJ4nQ3BoCPkS",
        "colab_type": "code",
        "colab": {}
      },
      "source": [
        ""
      ],
      "execution_count": 0,
      "outputs": []
    }
  ]
}